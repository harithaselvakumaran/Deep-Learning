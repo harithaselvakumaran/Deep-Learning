{
  "nbformat": 4,
  "nbformat_minor": 0,
  "metadata": {
    "colab": {
      "name": "Image classification using CNN.ipynb",
      "provenance": [],
      "collapsed_sections": [],
      "authorship_tag": "ABX9TyOe/VV9QubvUsEeYToDffGp",
      "include_colab_link": true
    },
    "kernelspec": {
      "name": "python3",
      "display_name": "Python 3"
    },
    "language_info": {
      "name": "python"
    },
    "accelerator": "GPU"
  },
  "cells": [
    {
      "cell_type": "markdown",
      "metadata": {
        "id": "view-in-github",
        "colab_type": "text"
      },
      "source": [
        "<a href=\"https://colab.research.google.com/github/harithaselvakumaran/Deep-Learning/blob/main/Image_classification_using_CNN.ipynb\" target=\"_parent\"><img src=\"https://colab.research.google.com/assets/colab-badge.svg\" alt=\"Open In Colab\"/></a>"
      ]
    },
    {
      "cell_type": "code",
      "metadata": {
        "id": "rvJ_NsRJPEaN"
      },
      "source": [
        "import tensorflow as tf\n",
        "from tensorflow import keras\n",
        "import pandas as pd\n",
        "import matplotlib.pyplot as plt\n",
        "import numpy as np"
      ],
      "execution_count": 1,
      "outputs": []
    },
    {
      "cell_type": "code",
      "metadata": {
        "colab": {
          "base_uri": "https://localhost:8080/"
        },
        "id": "zFRKljpgPbJ9",
        "outputId": "0b7c8610-b357-4ede-cf9c-fca5dddf2b57"
      },
      "source": [
        "(X_train, Y_train), (X_test,Y_test) = tf.keras.datasets.cifar10.load_data()"
      ],
      "execution_count": 2,
      "outputs": [
        {
          "output_type": "stream",
          "name": "stdout",
          "text": [
            "Downloading data from https://www.cs.toronto.edu/~kriz/cifar-10-python.tar.gz\n",
            "170500096/170498071 [==============================] - 2s 0us/step\n",
            "170508288/170498071 [==============================] - 2s 0us/step\n"
          ]
        }
      ]
    },
    {
      "cell_type": "code",
      "metadata": {
        "colab": {
          "base_uri": "https://localhost:8080/"
        },
        "id": "82-Vy3-YP38y",
        "outputId": "1d6da717-085f-4142-ff03-cbd6d5ddad3f"
      },
      "source": [
        "X_train.shape"
      ],
      "execution_count": 3,
      "outputs": [
        {
          "output_type": "execute_result",
          "data": {
            "text/plain": [
              "(50000, 32, 32, 3)"
            ]
          },
          "metadata": {},
          "execution_count": 3
        }
      ]
    },
    {
      "cell_type": "code",
      "metadata": {
        "colab": {
          "base_uri": "https://localhost:8080/"
        },
        "id": "DfQS_vI6QCcI",
        "outputId": "6306c518-1f6d-4f6b-fb9d-3f63caf19d06"
      },
      "source": [
        "X_test.shape"
      ],
      "execution_count": 4,
      "outputs": [
        {
          "output_type": "execute_result",
          "data": {
            "text/plain": [
              "(10000, 32, 32, 3)"
            ]
          },
          "metadata": {},
          "execution_count": 4
        }
      ]
    },
    {
      "cell_type": "code",
      "metadata": {
        "colab": {
          "base_uri": "https://localhost:8080/"
        },
        "id": "eQPYN8_GR98o",
        "outputId": "2af2f5a8-57fe-41cf-b58c-d7f473ea88c5"
      },
      "source": [
        "Y_train[:5]"
      ],
      "execution_count": 5,
      "outputs": [
        {
          "output_type": "execute_result",
          "data": {
            "text/plain": [
              "array([[6],\n",
              "       [9],\n",
              "       [9],\n",
              "       [4],\n",
              "       [1]], dtype=uint8)"
            ]
          },
          "metadata": {},
          "execution_count": 5
        }
      ]
    },
    {
      "cell_type": "code",
      "metadata": {
        "colab": {
          "base_uri": "https://localhost:8080/"
        },
        "id": "8DUwWnX3SAp7",
        "outputId": "583219f9-cf66-40af-9811-1e0bc6609889"
      },
      "source": [
        "Y_train = Y_train.reshape(-1)\n",
        "Y_train[:5]"
      ],
      "execution_count": 6,
      "outputs": [
        {
          "output_type": "execute_result",
          "data": {
            "text/plain": [
              "array([6, 9, 9, 4, 1], dtype=uint8)"
            ]
          },
          "metadata": {},
          "execution_count": 6
        }
      ]
    },
    {
      "cell_type": "code",
      "metadata": {
        "id": "nFpAqnaVSK_F"
      },
      "source": [
        "classes = [\"airplane\",\"automobile\",\"bird\",\"cat\",\"deer\",\"dog\",\"frog\",\"horse\",\"ship\",\"truck\"]"
      ],
      "execution_count": 28,
      "outputs": []
    },
    {
      "cell_type": "code",
      "metadata": {
        "id": "F6yI2frvQFS9"
      },
      "source": [
        "def plot_sample(X,Y,index):\n",
        "  plt.figure(figsize=(15,2))\n",
        "  plt.imshow(X[index]) #or imshow\n",
        "  plt.xlabel(classes[Y[index]])"
      ],
      "execution_count": 29,
      "outputs": []
    },
    {
      "cell_type": "code",
      "metadata": {
        "colab": {
          "base_uri": "https://localhost:8080/",
          "height": 173
        },
        "id": "Tyq7_XD9Sxaf",
        "outputId": "8ff9cbdd-192c-4f14-ec97-e26c2a226b5e"
      },
      "source": [
        "plot_sample(X_train,Y_train,1000)"
      ],
      "execution_count": 9,
      "outputs": [
        {
          "output_type": "display_data",
          "data": {
            "image/png": "[encoded data removed]",
            "text/plain": [
              "<Figure size 1080x144 with 1 Axes>"
            ]
          },
          "metadata": {
            "needs_background": "light"
          }
        }
      ]
    },
    {
      "cell_type": "code",
      "metadata": {
        "id": "Zqzxud9iS-s7"
      },
      "source": [
        "#Normalization\n",
        "X_train = X_train/255\n",
        "X_test = X_test/255"
      ],
      "execution_count": 10,
      "outputs": []
    },
    {
      "cell_type": "code",
      "metadata": {
        "colab": {
          "base_uri": "https://localhost:8080/"
        },
        "id": "e6mW2-HbTSnY",
        "outputId": "09d2e382-b652-4ba0-e2d6-75ab475daf02"
      },
      "source": [
        "ann_model = keras.Sequential([\n",
        "              keras.layers.Flatten(input_shape=(32,32,3)),\n",
        "              keras.layers.Dense(3000, activation='relu'),\n",
        "              keras.layers.Dense(1000, activation='relu'),\n",
        "              keras.layers.Dense(10, activation='sigmoid')\n",
        "])\n",
        "\n",
        "ann_model.compile(optimizer='SGD',\n",
        "                  loss='sparse_categorical_crossentropy',\n",
        "                  metrics=['accuracy'])\n",
        "\n",
        "ann_model.fit(X_train,Y_train, epochs=5)"
      ],
      "execution_count": 11,
      "outputs": [
        {
          "output_type": "stream",
          "name": "stdout",
          "text": [
            "Epoch 1/5\n",
            "1563/1563 [==============================] - 12s 6ms/step - loss: 1.8089 - accuracy: 0.3556\n",
            "Epoch 2/5\n",
            "1563/1563 [==============================] - 9s 6ms/step - loss: 1.6216 - accuracy: 0.4279\n",
            "Epoch 3/5\n",
            "1563/1563 [==============================] - 9s 6ms/step - loss: 1.5392 - accuracy: 0.4583\n",
            "Epoch 4/5\n",
            "1563/1563 [==============================] - 9s 6ms/step - loss: 1.4818 - accuracy: 0.4775\n",
            "Epoch 5/5\n",
            "1563/1563 [==============================] - 9s 6ms/step - loss: 1.4316 - accuracy: 0.4955\n"
          ]
        },
        {
          "output_type": "execute_result",
          "data": {
            "text/plain": [
              "<keras.callbacks.History at 0x7fefa071bdd0>"
            ]
          },
          "metadata": {},
          "execution_count": 11
        }
      ]
    },
    {
      "cell_type": "code",
      "metadata": {
        "colab": {
          "base_uri": "https://localhost:8080/"
        },
        "id": "i-oEogg1XfEx",
        "outputId": "8a97c822-727a-4654-b72b-1cc9e2e47188"
      },
      "source": [
        "ann_model.evaluate(X_test, Y_test)"
      ],
      "execution_count": 12,
      "outputs": [
        {
          "output_type": "stream",
          "name": "stdout",
          "text": [
            "313/313 [==============================] - 1s 4ms/step - loss: 1.5369 - accuracy: 0.4546\n"
          ]
        },
        {
          "output_type": "execute_result",
          "data": {
            "text/plain": [
              "[1.5368854999542236, 0.4546000063419342]"
            ]
          },
          "metadata": {},
          "execution_count": 12
        }
      ]
    },
    {
      "cell_type": "code",
      "metadata": {
        "colab": {
          "base_uri": "https://localhost:8080/"
        },
        "id": "PxpDzCroYPlm",
        "outputId": "157feeab-afb9-448e-d525-71cd4d093442"
      },
      "source": [
        "from sklearn.metrics import classification_report\n",
        "import numpy as np\n",
        "y_pred = ann_model.predict(X_test)\n",
        "y_pred = [np.argmax(x) for x in y_pred]\n",
        "print(classification_report(Y_test,y_pred))"
      ],
      "execution_count": 13,
      "outputs": [
        {
          "output_type": "stream",
          "name": "stdout",
          "text": [
            "              precision    recall  f1-score   support\n",
            "\n",
            "           0       0.58      0.55      0.57      1000\n",
            "           1       0.48      0.74      0.58      1000\n",
            "           2       0.40      0.29      0.34      1000\n",
            "           3       0.36      0.32      0.34      1000\n",
            "           4       0.32      0.53      0.40      1000\n",
            "           5       0.52      0.17      0.26      1000\n",
            "           6       0.69      0.16      0.27      1000\n",
            "           7       0.36      0.75      0.49      1000\n",
            "           8       0.63      0.60      0.62      1000\n",
            "           9       0.62      0.43      0.51      1000\n",
            "\n",
            "    accuracy                           0.45     10000\n",
            "   macro avg       0.50      0.45      0.44     10000\n",
            "weighted avg       0.50      0.45      0.44     10000\n",
            "\n"
          ]
        }
      ]
    },
    {
      "cell_type": "markdown",
      "metadata": {
        "id": "4K2mhU35Y4gg"
      },
      "source": [
        "### Using CNN"
      ]
    },
    {
      "cell_type": "code",
      "metadata": {
        "id": "ajLgbSz6Y9zN"
      },
      "source": [
        "cnn_model = keras.Sequential([\n",
        "                  #cnn\n",
        "                  keras.layers.Conv2D(filters=32, kernel_size=(3,3), activation='relu', input_shape=(32,32,3)),\n",
        "                  keras.layers.MaxPooling2D((2,2)),\n",
        "\n",
        "                  keras.layers.Conv2D(filters=32, kernel_size=(3,3), activation='relu', input_shape=(32,32,3)),\n",
        "                  keras.layers.MaxPooling2D((2,2)),\n",
        "\n",
        "                  #dense\n",
        "                  keras.layers.Flatten(),\n",
        "                  keras.layers.Dense(64, activation='relu'),\n",
        "                  keras.layers.Dense(10, activation='softmax')\n",
        "])"
      ],
      "execution_count": 14,
      "outputs": []
    },
    {
      "cell_type": "code",
      "metadata": {
        "id": "zlvOwUS8cCG6"
      },
      "source": [
        "cnn_model.compile(optimizer='adam',\n",
        "                  loss='sparse_categorical_crossentropy',\n",
        "                  metrics=['accuracy'])"
      ],
      "execution_count": 15,
      "outputs": []
    },
    {
      "cell_type": "code",
      "metadata": {
        "colab": {
          "base_uri": "https://localhost:8080/"
        },
        "id": "cZWFNv7lcLMI",
        "outputId": "e767b21c-9ba3-4238-d04f-496f30b72c6d"
      },
      "source": [
        "cnn_model.fit(X_train, Y_train, epochs=10)"
      ],
      "execution_count": 17,
      "outputs": [
        {
          "output_type": "stream",
          "name": "stdout",
          "text": [
            "Epoch 1/10\n",
            "1563/1563 [==============================] - 8s 5ms/step - loss: 1.5167 - accuracy: 0.4536\n",
            "Epoch 2/10\n",
            "1563/1563 [==============================] - 8s 5ms/step - loss: 1.2309 - accuracy: 0.5654\n",
            "Epoch 3/10\n",
            "1563/1563 [==============================] - 8s 5ms/step - loss: 1.1118 - accuracy: 0.6108\n",
            "Epoch 4/10\n",
            "1563/1563 [==============================] - 8s 5ms/step - loss: 1.0478 - accuracy: 0.6339\n",
            "Epoch 5/10\n",
            "1563/1563 [==============================] - 8s 5ms/step - loss: 0.9953 - accuracy: 0.6514\n",
            "Epoch 6/10\n",
            "1563/1563 [==============================] - 8s 5ms/step - loss: 0.9602 - accuracy: 0.6658\n",
            "Epoch 7/10\n",
            "1563/1563 [==============================] - 8s 5ms/step - loss: 0.9263 - accuracy: 0.6783\n",
            "Epoch 8/10\n",
            "1563/1563 [==============================] - 8s 5ms/step - loss: 0.8967 - accuracy: 0.6895\n",
            "Epoch 9/10\n",
            "1563/1563 [==============================] - 8s 5ms/step - loss: 0.8683 - accuracy: 0.6985\n",
            "Epoch 10/10\n",
            "1563/1563 [==============================] - 8s 5ms/step - loss: 0.8471 - accuracy: 0.7067\n"
          ]
        },
        {
          "output_type": "execute_result",
          "data": {
            "text/plain": [
              "<keras.callbacks.History at 0x7feeb03fc1d0>"
            ]
          },
          "metadata": {},
          "execution_count": 17
        }
      ]
    },
    {
      "cell_type": "code",
      "metadata": {
        "colab": {
          "base_uri": "https://localhost:8080/"
        },
        "id": "n8H8rpADeDXr",
        "outputId": "0b11b47b-466b-479b-ce1e-d807dde7d116"
      },
      "source": [
        "cnn_model.evaluate(X_test,Y_test)"
      ],
      "execution_count": 18,
      "outputs": [
        {
          "output_type": "stream",
          "name": "stdout",
          "text": [
            "313/313 [==============================] - 1s 4ms/step - loss: 0.9928 - accuracy: 0.6634\n"
          ]
        },
        {
          "output_type": "execute_result",
          "data": {
            "text/plain": [
              "[0.9927929639816284, 0.6633999943733215]"
            ]
          },
          "metadata": {},
          "execution_count": 18
        }
      ]
    },
    {
      "cell_type": "code",
      "metadata": {
        "colab": {
          "base_uri": "https://localhost:8080/"
        },
        "id": "Br1nnZB6eIYt",
        "outputId": "daf50bdc-2dc8-4f0c-f3ae-4ef68588ffb3"
      },
      "source": [
        "Y_test = Y_test.reshape(-1)\n",
        "Y_test[:5]"
      ],
      "execution_count": 19,
      "outputs": [
        {
          "output_type": "execute_result",
          "data": {
            "text/plain": [
              "array([3, 8, 8, 0, 6], dtype=uint8)"
            ]
          },
          "metadata": {},
          "execution_count": 19
        }
      ]
    },
    {
      "cell_type": "code",
      "metadata": {
        "colab": {
          "base_uri": "https://localhost:8080/",
          "height": 173
        },
        "id": "ao7ZoJYJednc",
        "outputId": "e6163a46-f4e4-4c77-956c-fa2918193fea"
      },
      "source": [
        "plot_sample(X_test, Y_test,1)"
      ],
      "execution_count": 20,
      "outputs": [
        {
          "output_type": "display_data",
          "data": {
            "image/png": "[encoded data removed]",
            "text/plain": [
              "<Figure size 1080x144 with 1 Axes>"
            ]
          },
          "metadata": {
            "needs_background": "light"
          }
        }
      ]
    },
    {
      "cell_type": "code",
      "metadata": {
        "colab": {
          "base_uri": "https://localhost:8080/"
        },
        "id": "6zaSu3fiezq6",
        "outputId": "b7e6fbe7-c841-40f6-a74a-77724c62886c"
      },
      "source": [
        "y_pred = cnn_model.predict(X_test)\n",
        "y_pred = [np.argmax(x) for x in y_pred]\n",
        "y_pred[:5]"
      ],
      "execution_count": 24,
      "outputs": [
        {
          "output_type": "execute_result",
          "data": {
            "text/plain": [
              "[3, 8, 8, 0, 6]"
            ]
          },
          "metadata": {},
          "execution_count": 24
        }
      ]
    },
    {
      "cell_type": "code",
      "metadata": {
        "colab": {
          "base_uri": "https://localhost:8080/"
        },
        "id": "YbCgsyjte-CY",
        "outputId": "a7189d73-d507-43b5-fa98-97867254013c"
      },
      "source": [
        "Y_test[:5]"
      ],
      "execution_count": 25,
      "outputs": [
        {
          "output_type": "execute_result",
          "data": {
            "text/plain": [
              "array([3, 8, 8, 0, 6], dtype=uint8)"
            ]
          },
          "metadata": {},
          "execution_count": 25
        }
      ]
    },
    {
      "cell_type": "code",
      "metadata": {
        "colab": {
          "base_uri": "https://localhost:8080/",
          "height": 173
        },
        "id": "gmXqgRS-fgpb",
        "outputId": "96ff7f44-091d-4e13-b952-0fc2ac2c6c17"
      },
      "source": [
        "plot_sample(X_test, Y_test, 0)"
      ],
      "execution_count": 30,
      "outputs": [
        {
          "output_type": "display_data",
          "data": {
            "image/png": "[encoded data removed]",
            "text/plain": [
              "<Figure size 1080x144 with 1 Axes>"
            ]
          },
          "metadata": {
            "needs_background": "light"
          }
        }
      ]
    },
    {
      "cell_type": "code",
      "metadata": {
        "id": "MsTJhDS6fkoe",
        "colab": {
          "base_uri": "https://localhost:8080/",
          "height": 35
        },
        "outputId": "3c151f63-ad08-47f5-82f2-b8150a412516"
      },
      "source": [
        "classes[y_pred[0]]"
      ],
      "execution_count": 32,
      "outputs": [
        {
          "output_type": "execute_result",
          "data": {
            "application/vnd.google.colaboratory.intrinsic+json": {
              "type": "string"
            },
            "text/plain": [
              "'cat'"
            ]
          },
          "metadata": {},
          "execution_count": 32
        }
      ]
    },
    {
      "cell_type": "code",
      "metadata": {
        "colab": {
          "base_uri": "https://localhost:8080/"
        },
        "id": "ny-d0gTLf4dp",
        "outputId": "5c6bb71b-4b67-464e-a7d1-6993f5897bb6"
      },
      "source": [
        "print(classification_report(Y_test, y_pred))"
      ],
      "execution_count": 34,
      "outputs": [
        {
          "output_type": "stream",
          "name": "stdout",
          "text": [
            "              precision    recall  f1-score   support\n",
            "\n",
            "           0       0.71      0.74      0.72      1000\n",
            "           1       0.83      0.74      0.79      1000\n",
            "           2       0.56      0.56      0.56      1000\n",
            "           3       0.49      0.47      0.48      1000\n",
            "           4       0.55      0.67      0.61      1000\n",
            "           5       0.64      0.48      0.55      1000\n",
            "           6       0.85      0.61      0.71      1000\n",
            "           7       0.65      0.75      0.70      1000\n",
            "           8       0.76      0.81      0.78      1000\n",
            "           9       0.67      0.81      0.73      1000\n",
            "\n",
            "    accuracy                           0.66     10000\n",
            "   macro avg       0.67      0.66      0.66     10000\n",
            "weighted avg       0.67      0.66      0.66     10000\n",
            "\n"
          ]
        }
      ]
    }
  ]
}